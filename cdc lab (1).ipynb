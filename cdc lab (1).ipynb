{
 "cells": [
  {
   "cell_type": "markdown",
   "id": "a238a927",
   "metadata": {},
   "source": [
    "## Soumil Nitin Shah \n",
    "Bachelor in Electronic Engineering |\n",
    "Masters in Electrical Engineering | \n",
    "Master in Computer Engineering |\n",
    "\n",
    "* Website : http://soumilshah.com/\n",
    "* Github: https://github.com/soumilshah1995\n",
    "* Linkedin: https://www.linkedin.com/in/shah-soumil/\n",
    "* Blog: https://soumilshah1995.blogspot.com/\n",
    "* Youtube : https://www.youtube.com/channel/UC_eOodxvwS_H7x2uLQa-svw?view_as=subscriber\n",
    "* Facebook Page : https://www.facebook.com/soumilshah1995/\n",
    "* Email : shahsoumil519@gmail.com\n",
    "* projects : https://soumilshah.herokuapp.com/project\n",
    "\n",
    "* I earned a Bachelor of Science in Electronic Engineering and a double master’s in Electrical and Computer Engineering. I have extensive expertise in developing scalable and high-performance software applications in Python. I have a YouTube channel where I teach people about Data Science, Machine learning, Elastic search, and AWS. I work as data Team Lead at Jobtarget where I spent most of my time developing Ingestion Framework and creating microservices and scalable architecture on AWS. I have worked with a massive amount of data which includes creating data lakes (1.2T) optimizing data lakes query by creating a partition and using the right file format and compression. I have also developed and worked on a streaming application for ingesting real-time streams data via kinesis and firehose to elastic search\n",
    "\n"
   ]
  },
  {
   "cell_type": "markdown",
   "id": "6bb8408a",
   "metadata": {},
   "source": [
    "\n",
    "<img width=\"955\" alt=\"Capture\" src=\"https://user-images.githubusercontent.com/39345855/223275673-d94152b7-9500-4d19-9efb-d9d21c4cccbe.PNG\">\n"
   ]
  },
  {
   "cell_type": "markdown",
   "id": "f62b6f55",
   "metadata": {},
   "source": [
    "# Step 1: Define Imports "
   ]
  },
  {
   "cell_type": "code",
   "execution_count": 11,
   "id": "49cdeb4a",
   "metadata": {},
   "outputs": [],
   "source": [
    "try:\n",
    "\n",
    "    import os\n",
    "    import sys\n",
    "    import uuid\n",
    "\n",
    "    import pyspark\n",
    "    from pyspark.sql import SparkSession\n",
    "    from pyspark import SparkConf, SparkContext\n",
    "    from pyspark.sql.functions import col, asc, desc\n",
    "    from pyspark.sql.functions import col, to_timestamp, monotonically_increasing_id, to_date, when\n",
    "    from pyspark.sql.functions import *\n",
    "    from pyspark.sql.types import *\n",
    "    from datetime import datetime\n",
    "    from functools import reduce\n",
    "    from faker import Faker\n",
    "\n",
    "\n",
    "except Exception as e:\n",
    "    pass"
   ]
  },
  {
   "cell_type": "markdown",
   "id": "810ea44c",
   "metadata": {},
   "source": [
    "# Step 2: Create Spark Session"
   ]
  },
  {
   "cell_type": "code",
   "execution_count": 12,
   "id": "23ee2343",
   "metadata": {},
   "outputs": [
    {
     "data": {
      "text/html": [
       "\n",
       "            <div>\n",
       "                <p><b>SparkSession - in-memory</b></p>\n",
       "                \n",
       "        <div>\n",
       "            <p><b>SparkContext</b></p>\n",
       "\n",
       "            <p><a href=\"http://JTSTDiSSHAH:4040\">Spark UI</a></p>\n",
       "\n",
       "            <dl>\n",
       "              <dt>Version</dt>\n",
       "                <dd><code>v3.3.1</code></dd>\n",
       "              <dt>Master</dt>\n",
       "                <dd><code>local[*]</code></dd>\n",
       "              <dt>AppName</dt>\n",
       "                <dd><code>pyspark-shell</code></dd>\n",
       "            </dl>\n",
       "        </div>\n",
       "        \n",
       "            </div>\n",
       "        "
      ],
      "text/plain": [
       "<pyspark.sql.session.SparkSession at 0x2daec1e7520>"
      ]
     },
     "execution_count": 12,
     "metadata": {},
     "output_type": "execute_result"
    }
   ],
   "source": [
    "SUBMIT_ARGS = \"--packages org.apache.hudi:hudi-spark3.3-bundle_2.12:0.13.0 pyspark-shell\"\n",
    "os.environ[\"PYSPARK_SUBMIT_ARGS\"] = SUBMIT_ARGS\n",
    "os.environ['PYSPARK_PYTHON'] = sys.executable\n",
    "os.environ['PYSPARK_DRIVER_PYTHON'] = sys.executable\n",
    "\n",
    "spark = SparkSession.builder \\\n",
    "    .config('spark.serializer', 'org.apache.spark.serializer.KryoSerializer') \\\n",
    "    .config('className', 'org.apache.hudi') \\\n",
    "    .config('spark.sql.hive.convertMetastoreParquet', 'false') \\\n",
    "    .getOrCreate()\n",
    "\n",
    "spark"
   ]
  },
  {
   "cell_type": "markdown",
   "id": "87f70567",
   "metadata": {},
   "source": [
    "# Step 3: Define Settings for Hudi CDC tables "
   ]
  },
  {
   "cell_type": "code",
   "execution_count": 13,
   "id": "5ef8f45a",
   "metadata": {},
   "outputs": [],
   "source": [
    "db_name = \"hudidb\"\n",
    "table_name = \"hudi_cdc_table\"\n",
    "\n",
    "recordkey = 'uuid'\n",
    "path = f\"file:///C:/tmp/{db_name}/{table_name}\"\n",
    "precombine = \"date\"\n",
    "method = 'upsert'\n",
    "table_type = \"COPY_ON_WRITE\"  # COPY_ON_WRITE | MERGE_ON_READ\n",
    "\n",
    "hudi_options = {\n",
    "    'hoodie.table.name': table_name,\n",
    "    'hoodie.datasource.write.recordkey.field': recordkey,\n",
    "    'hoodie.datasource.write.table.name': table_name,\n",
    "    'hoodie.datasource.write.operation': method,\n",
    "    'hoodie.datasource.write.precombine.field': precombine,\n",
    "    \n",
    "    'hoodie.table.cdc.enabled':'true',\n",
    "    'hoodie.table.cdc.supplemental.logging.mode': 'data_before_after',\n",
    "    \n",
    "}"
   ]
  },
  {
   "cell_type": "markdown",
   "id": "1a038fdc",
   "metadata": {},
   "source": [
    "# Step 4: performing inserts updates and deletes on datalake "
   ]
  },
  {
   "cell_type": "markdown",
   "id": "52255d86",
   "metadata": {},
   "source": [
    "#### INSERTS "
   ]
  },
  {
   "cell_type": "code",
   "execution_count": 14,
   "id": "e1177693",
   "metadata": {
    "scrolled": true
   },
   "outputs": [],
   "source": [
    "spark_df = spark.createDataFrame(\n",
    "    data=[\n",
    "    (1, \"insert 1\",  111,  \"2020-01-06 12:12:12\"),\n",
    "    (2, \"insert 2\",  22, \"2020-01-06 12:12:12\"),\n",
    "], \n",
    "    schema=[\"uuid\", \"message\", \"precomb\", \"date\"])\n",
    "\n",
    "spark_df.write.format(\"hudi\"). \\\n",
    "    options(**hudi_options). \\\n",
    "    mode(\"append\"). \\\n",
    "    save(path)"
   ]
  },
  {
   "cell_type": "markdown",
   "id": "685cc112",
   "metadata": {},
   "source": [
    "#### Late Arrving Updates and Inserts "
   ]
  },
  {
   "cell_type": "code",
   "execution_count": 15,
   "id": "6d32dcf8",
   "metadata": {},
   "outputs": [],
   "source": [
    "spark_df = spark.createDataFrame(\n",
    "    data=[\n",
    "    (1, \"update 1\",  111,  \"2020-01-06 12:12:12\"),\n",
    "    (3, \"insert 3\",  33, \"2020-01-07 12:12:12\"),\n",
    "], \n",
    "    schema=[\"uuid\", \"message\", \"precomb\", \"date\"])\n",
    "\n",
    "spark_df.write.format(\"hudi\"). \\\n",
    "    options(**hudi_options). \\\n",
    "    mode(\"append\"). \\\n",
    "    save(path)"
   ]
  },
  {
   "cell_type": "code",
   "execution_count": null,
   "id": "cabb54b5",
   "metadata": {},
   "outputs": [],
   "source": []
  }
 ],
 "metadata": {
  "kernelspec": {
   "display_name": "Python 3 (ipykernel)",
   "language": "python",
   "name": "python3"
  },
  "language_info": {
   "codemirror_mode": {
    "name": "ipython",
    "version": 3
   },
   "file_extension": ".py",
   "mimetype": "text/x-python",
   "name": "python",
   "nbconvert_exporter": "python",
   "pygments_lexer": "ipython3",
   "version": "3.9.13"
  }
 },
 "nbformat": 4,
 "nbformat_minor": 5
}
